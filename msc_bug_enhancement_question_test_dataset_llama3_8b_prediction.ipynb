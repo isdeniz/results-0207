{
  "nbformat": 4,
  "nbformat_minor": 0,
  "metadata": {
    "colab": {
      "provenance": [],
      "machine_shape": "hm",
      "gpuType": "A100",
      "authorship_tag": "ABX9TyP/RqslXt2vlDnT7dcBF+iE",
      "include_colab_link": true
    },
    "kernelspec": {
      "name": "python3",
      "display_name": "Python 3"
    },
    "language_info": {
      "name": "python"
    },
    "accelerator": "GPU"
  },
  "cells": [
    {
      "cell_type": "markdown",
      "metadata": {
        "id": "view-in-github",
        "colab_type": "text"
      },
      "source": [
        "<a href=\"https://colab.research.google.com/github/isdeniz/results-0207/blob/main/msc_bug_enhancement_question_test_dataset_llama3_8b_prediction.ipynb\" target=\"_parent\"><img src=\"https://colab.research.google.com/assets/colab-badge.svg\" alt=\"Open In Colab\"/></a>"
      ]
    },
    {
      "cell_type": "code",
      "execution_count": 1,
      "metadata": {
        "colab": {
          "base_uri": "https://localhost:8080/"
        },
        "id": "3l32oCTgfPJI",
        "outputId": "b55e4c83-cfa8-4ecc-ad8f-8f36f628cde0"
      },
      "outputs": [
        {
          "output_type": "stream",
          "name": "stdout",
          "text": [
            ">>> Downloading ollama...\n",
            "############################################################################################# 100.0%\n",
            ">>> Installing ollama to /usr/local/bin...\n",
            ">>> Creating ollama user...\n",
            ">>> Adding ollama user to video group...\n",
            ">>> Adding current user to ollama group...\n",
            ">>> Creating ollama systemd service...\n",
            "WARNING: Unable to detect NVIDIA/AMD GPU. Install lspci or lshw to automatically detect and install GPU dependencies.\n",
            ">>> The Ollama API is now available at 127.0.0.1:11434.\n",
            ">>> Install complete. Run \"ollama\" from the command line.\n"
          ]
        }
      ],
      "source": [
        "!curl -fsSL https://ollama.com/install.sh | sh"
      ]
    },
    {
      "cell_type": "code",
      "source": [
        "!pip install langchain\n",
        "!pip install langchain-core\n",
        "!pip install langchain-community"
      ],
      "metadata": {
        "colab": {
          "base_uri": "https://localhost:8080/"
        },
        "id": "2LBaagMIfUlX",
        "outputId": "f0da9b19-ab51-450d-931d-54d6f02fa4c5"
      },
      "execution_count": 2,
      "outputs": [
        {
          "output_type": "stream",
          "name": "stdout",
          "text": [
            "Collecting langchain\n",
            "  Downloading langchain-0.2.6-py3-none-any.whl (975 kB)\n",
            "\u001b[2K     \u001b[90m━━━━━━━━━━━━━━━━━━━━━━━━━━━━━━━━━━━━━━━━\u001b[0m \u001b[32m975.5/975.5 kB\u001b[0m \u001b[31m4.8 MB/s\u001b[0m eta \u001b[36m0:00:00\u001b[0m\n",
            "\u001b[?25hRequirement already satisfied: PyYAML>=5.3 in /usr/local/lib/python3.10/dist-packages (from langchain) (6.0.1)\n",
            "Requirement already satisfied: SQLAlchemy<3,>=1.4 in /usr/local/lib/python3.10/dist-packages (from langchain) (2.0.31)\n",
            "Requirement already satisfied: aiohttp<4.0.0,>=3.8.3 in /usr/local/lib/python3.10/dist-packages (from langchain) (3.9.5)\n",
            "Requirement already satisfied: async-timeout<5.0.0,>=4.0.0 in /usr/local/lib/python3.10/dist-packages (from langchain) (4.0.3)\n",
            "Collecting langchain-core<0.3.0,>=0.2.10 (from langchain)\n",
            "  Downloading langchain_core-0.2.11-py3-none-any.whl (337 kB)\n",
            "\u001b[2K     \u001b[90m━━━━━━━━━━━━━━━━━━━━━━━━━━━━━━━━━━━━━━━━\u001b[0m \u001b[32m337.4/337.4 kB\u001b[0m \u001b[31m33.7 MB/s\u001b[0m eta \u001b[36m0:00:00\u001b[0m\n",
            "\u001b[?25hCollecting langchain-text-splitters<0.3.0,>=0.2.0 (from langchain)\n",
            "  Downloading langchain_text_splitters-0.2.2-py3-none-any.whl (25 kB)\n",
            "Collecting langsmith<0.2.0,>=0.1.17 (from langchain)\n",
            "  Downloading langsmith-0.1.83-py3-none-any.whl (127 kB)\n",
            "\u001b[2K     \u001b[90m━━━━━━━━━━━━━━━━━━━━━━━━━━━━━━━━━━━━━━━━\u001b[0m \u001b[32m127.5/127.5 kB\u001b[0m \u001b[31m21.0 MB/s\u001b[0m eta \u001b[36m0:00:00\u001b[0m\n",
            "\u001b[?25hRequirement already satisfied: numpy<2,>=1 in /usr/local/lib/python3.10/dist-packages (from langchain) (1.25.2)\n",
            "Requirement already satisfied: pydantic<3,>=1 in /usr/local/lib/python3.10/dist-packages (from langchain) (2.8.0)\n",
            "Requirement already satisfied: requests<3,>=2 in /usr/local/lib/python3.10/dist-packages (from langchain) (2.31.0)\n",
            "Requirement already satisfied: tenacity!=8.4.0,<9.0.0,>=8.1.0 in /usr/local/lib/python3.10/dist-packages (from langchain) (8.4.2)\n",
            "Requirement already satisfied: aiosignal>=1.1.2 in /usr/local/lib/python3.10/dist-packages (from aiohttp<4.0.0,>=3.8.3->langchain) (1.3.1)\n",
            "Requirement already satisfied: attrs>=17.3.0 in /usr/local/lib/python3.10/dist-packages (from aiohttp<4.0.0,>=3.8.3->langchain) (23.2.0)\n",
            "Requirement already satisfied: frozenlist>=1.1.1 in /usr/local/lib/python3.10/dist-packages (from aiohttp<4.0.0,>=3.8.3->langchain) (1.4.1)\n",
            "Requirement already satisfied: multidict<7.0,>=4.5 in /usr/local/lib/python3.10/dist-packages (from aiohttp<4.0.0,>=3.8.3->langchain) (6.0.5)\n",
            "Requirement already satisfied: yarl<2.0,>=1.0 in /usr/local/lib/python3.10/dist-packages (from aiohttp<4.0.0,>=3.8.3->langchain) (1.9.4)\n",
            "Collecting jsonpatch<2.0,>=1.33 (from langchain-core<0.3.0,>=0.2.10->langchain)\n",
            "  Downloading jsonpatch-1.33-py2.py3-none-any.whl (12 kB)\n",
            "Requirement already satisfied: packaging<25,>=23.2 in /usr/local/lib/python3.10/dist-packages (from langchain-core<0.3.0,>=0.2.10->langchain) (24.1)\n",
            "Collecting orjson<4.0.0,>=3.9.14 (from langsmith<0.2.0,>=0.1.17->langchain)\n",
            "  Downloading orjson-3.10.6-cp310-cp310-manylinux_2_17_x86_64.manylinux2014_x86_64.whl (141 kB)\n",
            "\u001b[2K     \u001b[90m━━━━━━━━━━━━━━━━━━━━━━━━━━━━━━━━━━━━━━━━\u001b[0m \u001b[32m141.1/141.1 kB\u001b[0m \u001b[31m18.2 MB/s\u001b[0m eta \u001b[36m0:00:00\u001b[0m\n",
            "\u001b[?25hRequirement already satisfied: annotated-types>=0.4.0 in /usr/local/lib/python3.10/dist-packages (from pydantic<3,>=1->langchain) (0.7.0)\n",
            "Requirement already satisfied: pydantic-core==2.20.0 in /usr/local/lib/python3.10/dist-packages (from pydantic<3,>=1->langchain) (2.20.0)\n",
            "Requirement already satisfied: typing-extensions>=4.6.1 in /usr/local/lib/python3.10/dist-packages (from pydantic<3,>=1->langchain) (4.12.2)\n",
            "Requirement already satisfied: charset-normalizer<4,>=2 in /usr/local/lib/python3.10/dist-packages (from requests<3,>=2->langchain) (3.3.2)\n",
            "Requirement already satisfied: idna<4,>=2.5 in /usr/local/lib/python3.10/dist-packages (from requests<3,>=2->langchain) (3.7)\n",
            "Requirement already satisfied: urllib3<3,>=1.21.1 in /usr/local/lib/python3.10/dist-packages (from requests<3,>=2->langchain) (2.0.7)\n",
            "Requirement already satisfied: certifi>=2017.4.17 in /usr/local/lib/python3.10/dist-packages (from requests<3,>=2->langchain) (2024.6.2)\n",
            "Requirement already satisfied: greenlet!=0.4.17 in /usr/local/lib/python3.10/dist-packages (from SQLAlchemy<3,>=1.4->langchain) (3.0.3)\n",
            "Collecting jsonpointer>=1.9 (from jsonpatch<2.0,>=1.33->langchain-core<0.3.0,>=0.2.10->langchain)\n",
            "  Downloading jsonpointer-3.0.0-py2.py3-none-any.whl (7.6 kB)\n",
            "Installing collected packages: orjson, jsonpointer, jsonpatch, langsmith, langchain-core, langchain-text-splitters, langchain\n",
            "Successfully installed jsonpatch-1.33 jsonpointer-3.0.0 langchain-0.2.6 langchain-core-0.2.11 langchain-text-splitters-0.2.2 langsmith-0.1.83 orjson-3.10.6\n",
            "Requirement already satisfied: langchain-core in /usr/local/lib/python3.10/dist-packages (0.2.11)\n",
            "Requirement already satisfied: PyYAML>=5.3 in /usr/local/lib/python3.10/dist-packages (from langchain-core) (6.0.1)\n",
            "Requirement already satisfied: jsonpatch<2.0,>=1.33 in /usr/local/lib/python3.10/dist-packages (from langchain-core) (1.33)\n",
            "Requirement already satisfied: langsmith<0.2.0,>=0.1.75 in /usr/local/lib/python3.10/dist-packages (from langchain-core) (0.1.83)\n",
            "Requirement already satisfied: packaging<25,>=23.2 in /usr/local/lib/python3.10/dist-packages (from langchain-core) (24.1)\n",
            "Requirement already satisfied: pydantic<3,>=1 in /usr/local/lib/python3.10/dist-packages (from langchain-core) (2.8.0)\n",
            "Requirement already satisfied: tenacity!=8.4.0,<9.0.0,>=8.1.0 in /usr/local/lib/python3.10/dist-packages (from langchain-core) (8.4.2)\n",
            "Requirement already satisfied: jsonpointer>=1.9 in /usr/local/lib/python3.10/dist-packages (from jsonpatch<2.0,>=1.33->langchain-core) (3.0.0)\n",
            "Requirement already satisfied: orjson<4.0.0,>=3.9.14 in /usr/local/lib/python3.10/dist-packages (from langsmith<0.2.0,>=0.1.75->langchain-core) (3.10.6)\n",
            "Requirement already satisfied: requests<3,>=2 in /usr/local/lib/python3.10/dist-packages (from langsmith<0.2.0,>=0.1.75->langchain-core) (2.31.0)\n",
            "Requirement already satisfied: annotated-types>=0.4.0 in /usr/local/lib/python3.10/dist-packages (from pydantic<3,>=1->langchain-core) (0.7.0)\n",
            "Requirement already satisfied: pydantic-core==2.20.0 in /usr/local/lib/python3.10/dist-packages (from pydantic<3,>=1->langchain-core) (2.20.0)\n",
            "Requirement already satisfied: typing-extensions>=4.6.1 in /usr/local/lib/python3.10/dist-packages (from pydantic<3,>=1->langchain-core) (4.12.2)\n",
            "Requirement already satisfied: charset-normalizer<4,>=2 in /usr/local/lib/python3.10/dist-packages (from requests<3,>=2->langsmith<0.2.0,>=0.1.75->langchain-core) (3.3.2)\n",
            "Requirement already satisfied: idna<4,>=2.5 in /usr/local/lib/python3.10/dist-packages (from requests<3,>=2->langsmith<0.2.0,>=0.1.75->langchain-core) (3.7)\n",
            "Requirement already satisfied: urllib3<3,>=1.21.1 in /usr/local/lib/python3.10/dist-packages (from requests<3,>=2->langsmith<0.2.0,>=0.1.75->langchain-core) (2.0.7)\n",
            "Requirement already satisfied: certifi>=2017.4.17 in /usr/local/lib/python3.10/dist-packages (from requests<3,>=2->langsmith<0.2.0,>=0.1.75->langchain-core) (2024.6.2)\n",
            "Collecting langchain-community\n",
            "  Downloading langchain_community-0.2.6-py3-none-any.whl (2.2 MB)\n",
            "\u001b[2K     \u001b[90m━━━━━━━━━━━━━━━━━━━━━━━━━━━━━━━━━━━━━━━━\u001b[0m \u001b[32m2.2/2.2 MB\u001b[0m \u001b[31m8.6 MB/s\u001b[0m eta \u001b[36m0:00:00\u001b[0m\n",
            "\u001b[?25hRequirement already satisfied: PyYAML>=5.3 in /usr/local/lib/python3.10/dist-packages (from langchain-community) (6.0.1)\n",
            "Requirement already satisfied: SQLAlchemy<3,>=1.4 in /usr/local/lib/python3.10/dist-packages (from langchain-community) (2.0.31)\n",
            "Requirement already satisfied: aiohttp<4.0.0,>=3.8.3 in /usr/local/lib/python3.10/dist-packages (from langchain-community) (3.9.5)\n",
            "Collecting dataclasses-json<0.7,>=0.5.7 (from langchain-community)\n",
            "  Downloading dataclasses_json-0.6.7-py3-none-any.whl (28 kB)\n",
            "Requirement already satisfied: langchain<0.3.0,>=0.2.6 in /usr/local/lib/python3.10/dist-packages (from langchain-community) (0.2.6)\n",
            "Requirement already satisfied: langchain-core<0.3.0,>=0.2.10 in /usr/local/lib/python3.10/dist-packages (from langchain-community) (0.2.11)\n",
            "Requirement already satisfied: langsmith<0.2.0,>=0.1.0 in /usr/local/lib/python3.10/dist-packages (from langchain-community) (0.1.83)\n",
            "Requirement already satisfied: numpy<2,>=1 in /usr/local/lib/python3.10/dist-packages (from langchain-community) (1.25.2)\n",
            "Requirement already satisfied: requests<3,>=2 in /usr/local/lib/python3.10/dist-packages (from langchain-community) (2.31.0)\n",
            "Requirement already satisfied: tenacity!=8.4.0,<9.0.0,>=8.1.0 in /usr/local/lib/python3.10/dist-packages (from langchain-community) (8.4.2)\n",
            "Requirement already satisfied: aiosignal>=1.1.2 in /usr/local/lib/python3.10/dist-packages (from aiohttp<4.0.0,>=3.8.3->langchain-community) (1.3.1)\n",
            "Requirement already satisfied: attrs>=17.3.0 in /usr/local/lib/python3.10/dist-packages (from aiohttp<4.0.0,>=3.8.3->langchain-community) (23.2.0)\n",
            "Requirement already satisfied: frozenlist>=1.1.1 in /usr/local/lib/python3.10/dist-packages (from aiohttp<4.0.0,>=3.8.3->langchain-community) (1.4.1)\n",
            "Requirement already satisfied: multidict<7.0,>=4.5 in /usr/local/lib/python3.10/dist-packages (from aiohttp<4.0.0,>=3.8.3->langchain-community) (6.0.5)\n",
            "Requirement already satisfied: yarl<2.0,>=1.0 in /usr/local/lib/python3.10/dist-packages (from aiohttp<4.0.0,>=3.8.3->langchain-community) (1.9.4)\n",
            "Requirement already satisfied: async-timeout<5.0,>=4.0 in /usr/local/lib/python3.10/dist-packages (from aiohttp<4.0.0,>=3.8.3->langchain-community) (4.0.3)\n",
            "Collecting marshmallow<4.0.0,>=3.18.0 (from dataclasses-json<0.7,>=0.5.7->langchain-community)\n",
            "  Downloading marshmallow-3.21.3-py3-none-any.whl (49 kB)\n",
            "\u001b[2K     \u001b[90m━━━━━━━━━━━━━━━━━━━━━━━━━━━━━━━━━━━━━━━━\u001b[0m \u001b[32m49.2/49.2 kB\u001b[0m \u001b[31m8.1 MB/s\u001b[0m eta \u001b[36m0:00:00\u001b[0m\n",
            "\u001b[?25hCollecting typing-inspect<1,>=0.4.0 (from dataclasses-json<0.7,>=0.5.7->langchain-community)\n",
            "  Downloading typing_inspect-0.9.0-py3-none-any.whl (8.8 kB)\n",
            "Requirement already satisfied: langchain-text-splitters<0.3.0,>=0.2.0 in /usr/local/lib/python3.10/dist-packages (from langchain<0.3.0,>=0.2.6->langchain-community) (0.2.2)\n",
            "Requirement already satisfied: pydantic<3,>=1 in /usr/local/lib/python3.10/dist-packages (from langchain<0.3.0,>=0.2.6->langchain-community) (2.8.0)\n",
            "Requirement already satisfied: jsonpatch<2.0,>=1.33 in /usr/local/lib/python3.10/dist-packages (from langchain-core<0.3.0,>=0.2.10->langchain-community) (1.33)\n",
            "Requirement already satisfied: packaging<25,>=23.2 in /usr/local/lib/python3.10/dist-packages (from langchain-core<0.3.0,>=0.2.10->langchain-community) (24.1)\n",
            "Requirement already satisfied: orjson<4.0.0,>=3.9.14 in /usr/local/lib/python3.10/dist-packages (from langsmith<0.2.0,>=0.1.0->langchain-community) (3.10.6)\n",
            "Requirement already satisfied: charset-normalizer<4,>=2 in /usr/local/lib/python3.10/dist-packages (from requests<3,>=2->langchain-community) (3.3.2)\n",
            "Requirement already satisfied: idna<4,>=2.5 in /usr/local/lib/python3.10/dist-packages (from requests<3,>=2->langchain-community) (3.7)\n",
            "Requirement already satisfied: urllib3<3,>=1.21.1 in /usr/local/lib/python3.10/dist-packages (from requests<3,>=2->langchain-community) (2.0.7)\n",
            "Requirement already satisfied: certifi>=2017.4.17 in /usr/local/lib/python3.10/dist-packages (from requests<3,>=2->langchain-community) (2024.6.2)\n",
            "Requirement already satisfied: typing-extensions>=4.6.0 in /usr/local/lib/python3.10/dist-packages (from SQLAlchemy<3,>=1.4->langchain-community) (4.12.2)\n",
            "Requirement already satisfied: greenlet!=0.4.17 in /usr/local/lib/python3.10/dist-packages (from SQLAlchemy<3,>=1.4->langchain-community) (3.0.3)\n",
            "Requirement already satisfied: jsonpointer>=1.9 in /usr/local/lib/python3.10/dist-packages (from jsonpatch<2.0,>=1.33->langchain-core<0.3.0,>=0.2.10->langchain-community) (3.0.0)\n",
            "Requirement already satisfied: annotated-types>=0.4.0 in /usr/local/lib/python3.10/dist-packages (from pydantic<3,>=1->langchain<0.3.0,>=0.2.6->langchain-community) (0.7.0)\n",
            "Requirement already satisfied: pydantic-core==2.20.0 in /usr/local/lib/python3.10/dist-packages (from pydantic<3,>=1->langchain<0.3.0,>=0.2.6->langchain-community) (2.20.0)\n",
            "Collecting mypy-extensions>=0.3.0 (from typing-inspect<1,>=0.4.0->dataclasses-json<0.7,>=0.5.7->langchain-community)\n",
            "  Downloading mypy_extensions-1.0.0-py3-none-any.whl (4.7 kB)\n",
            "Installing collected packages: mypy-extensions, marshmallow, typing-inspect, dataclasses-json, langchain-community\n",
            "Successfully installed dataclasses-json-0.6.7 langchain-community-0.2.6 marshmallow-3.21.3 mypy-extensions-1.0.0 typing-inspect-0.9.0\n"
          ]
        }
      ]
    },
    {
      "cell_type": "code",
      "source": [
        "from langchain_community.llms import Ollama\n",
        "llm = Ollama(model = \"llama3\")"
      ],
      "metadata": {
        "id": "ioOlSrvrfXux"
      },
      "execution_count": 3,
      "outputs": []
    },
    {
      "cell_type": "code",
      "source": [
        "pip install tqdm"
      ],
      "metadata": {
        "colab": {
          "base_uri": "https://localhost:8080/"
        },
        "id": "DyBmCRWXfYvC",
        "outputId": "d8f5c201-e9ed-4a1f-cd27-f891757ca07d"
      },
      "execution_count": 4,
      "outputs": [
        {
          "output_type": "stream",
          "name": "stdout",
          "text": [
            "Requirement already satisfied: tqdm in /usr/local/lib/python3.10/dist-packages (4.66.4)\n"
          ]
        }
      ]
    },
    {
      "cell_type": "code",
      "source": [
        "import pandas as pd\n",
        "from tqdm import tqdm"
      ],
      "metadata": {
        "id": "7ApQzmIJfZwa"
      },
      "execution_count": 5,
      "outputs": []
    },
    {
      "cell_type": "code",
      "source": [
        "test = pd.read_csv('data/test_bug_enhancement_question_nlbse22_preprocessing_200_detailed_data.csv')\n",
        "print('Number of issues in test dataset: ', test.shape)"
      ],
      "metadata": {
        "colab": {
          "base_uri": "https://localhost:8080/"
        },
        "id": "Ze2b9wtSfa01",
        "outputId": "05fad08a-7ef0-4434-8e5c-bb9aa2bcc5fd"
      },
      "execution_count": 6,
      "outputs": [
        {
          "output_type": "stream",
          "name": "stdout",
          "text": [
            "Number of issues in test dataset:  (10537, 7)\n"
          ]
        }
      ]
    },
    {
      "cell_type": "code",
      "source": [
        "test.head()"
      ],
      "metadata": {
        "colab": {
          "base_uri": "https://localhost:8080/",
          "height": 496
        },
        "id": "kox0rvhFfcCi",
        "outputId": "4875315f-ec19-465b-c852-c344ad288c4c"
      },
      "execution_count": 7,
      "outputs": [
        {
          "output_type": "execute_result",
          "data": {
            "text/plain": [
              "                                original_issue_title  \\\n",
              "0  Add @DirtiesContext \"before modes\" TEL to @Int...   \n",
              "1                  Problem with a logical expression   \n",
              "2               2.0 Design: Performance Benchmarking   \n",
              "3               Possibly xml parsing issue [SPR-930]   \n",
              "4          [java] support `time` package like Python   \n",
              "\n",
              "                                 original_issue_body  \\\n",
              "0  Spring Framework 4.2 introduced support for _b...   \n",
              "1  Hi guys,\\r\\nI am facing a problem with the neo...   \n",
              "2  Right from the start of RxJava 2.0 we should g...   \n",
              "3  **[Peter Delahunty](https://jira.spring.io/sec...   \n",
              "4  ### Description of the feature request:\\n\\n\\nL...   \n",
              "\n",
              "                                  preprocessed_title  \\\n",
              "0  add dirtiescontext before modes tel to integra...   \n",
              "1                  problem with a logical expression   \n",
              "2                2.0 design performance benchmarking   \n",
              "3                 possibly xml parsing issue spr 930   \n",
              "4              java support time package like python   \n",
              "\n",
              "                                   preprocessed_body  \\\n",
              "0  spring framework 4.2 introduced support for _b...   \n",
              "1  hi guys i am facing a problem with the neo4j c...   \n",
              "2  right from the start of rxjava 2.0 we should g...   \n",
              "3  peter delahunty https jira.spring.io secure vi...   \n",
              "4  description of the feature request like go ver...   \n",
              "\n",
              "                                                text  \\\n",
              "0  time 2015-08-02T13:12:18Z author MEMBER repo s...   \n",
              "1  time 2018-10-11T07:09:44Z author NONE repo neo...   \n",
              "2  time 2015-02-28T17:24:29Z author MEMBER repo R...   \n",
              "3  time 2005-05-08T22:17:40Z author COLLABORATOR ...   \n",
              "4  time 2023-09-11T06:36:15Z author NONE repo baz...   \n",
              "\n",
              "                              labels_name     mapLabel  \n",
              "0                   ['type: enhancement']  enhancement  \n",
              "1                  ['bug', 'team-cypher']          bug  \n",
              "2                          ['Discussion']     question  \n",
              "3               ['type: bug', 'in: core']          bug  \n",
              "4  ['type: feature request', 'untriaged']  enhancement  "
            ],
            "text/html": [
              "\n",
              "  <div id=\"df-64d3deda-978a-40d3-8971-462088da9dc1\" class=\"colab-df-container\">\n",
              "    <div>\n",
              "<style scoped>\n",
              "    .dataframe tbody tr th:only-of-type {\n",
              "        vertical-align: middle;\n",
              "    }\n",
              "\n",
              "    .dataframe tbody tr th {\n",
              "        vertical-align: top;\n",
              "    }\n",
              "\n",
              "    .dataframe thead th {\n",
              "        text-align: right;\n",
              "    }\n",
              "</style>\n",
              "<table border=\"1\" class=\"dataframe\">\n",
              "  <thead>\n",
              "    <tr style=\"text-align: right;\">\n",
              "      <th></th>\n",
              "      <th>original_issue_title</th>\n",
              "      <th>original_issue_body</th>\n",
              "      <th>preprocessed_title</th>\n",
              "      <th>preprocessed_body</th>\n",
              "      <th>text</th>\n",
              "      <th>labels_name</th>\n",
              "      <th>mapLabel</th>\n",
              "    </tr>\n",
              "  </thead>\n",
              "  <tbody>\n",
              "    <tr>\n",
              "      <th>0</th>\n",
              "      <td>Add @DirtiesContext \"before modes\" TEL to @Int...</td>\n",
              "      <td>Spring Framework 4.2 introduced support for _b...</td>\n",
              "      <td>add dirtiescontext before modes tel to integra...</td>\n",
              "      <td>spring framework 4.2 introduced support for _b...</td>\n",
              "      <td>time 2015-08-02T13:12:18Z author MEMBER repo s...</td>\n",
              "      <td>['type: enhancement']</td>\n",
              "      <td>enhancement</td>\n",
              "    </tr>\n",
              "    <tr>\n",
              "      <th>1</th>\n",
              "      <td>Problem with a logical expression</td>\n",
              "      <td>Hi guys,\\r\\nI am facing a problem with the neo...</td>\n",
              "      <td>problem with a logical expression</td>\n",
              "      <td>hi guys i am facing a problem with the neo4j c...</td>\n",
              "      <td>time 2018-10-11T07:09:44Z author NONE repo neo...</td>\n",
              "      <td>['bug', 'team-cypher']</td>\n",
              "      <td>bug</td>\n",
              "    </tr>\n",
              "    <tr>\n",
              "      <th>2</th>\n",
              "      <td>2.0 Design: Performance Benchmarking</td>\n",
              "      <td>Right from the start of RxJava 2.0 we should g...</td>\n",
              "      <td>2.0 design performance benchmarking</td>\n",
              "      <td>right from the start of rxjava 2.0 we should g...</td>\n",
              "      <td>time 2015-02-28T17:24:29Z author MEMBER repo R...</td>\n",
              "      <td>['Discussion']</td>\n",
              "      <td>question</td>\n",
              "    </tr>\n",
              "    <tr>\n",
              "      <th>3</th>\n",
              "      <td>Possibly xml parsing issue [SPR-930]</td>\n",
              "      <td>**[Peter Delahunty](https://jira.spring.io/sec...</td>\n",
              "      <td>possibly xml parsing issue spr 930</td>\n",
              "      <td>peter delahunty https jira.spring.io secure vi...</td>\n",
              "      <td>time 2005-05-08T22:17:40Z author COLLABORATOR ...</td>\n",
              "      <td>['type: bug', 'in: core']</td>\n",
              "      <td>bug</td>\n",
              "    </tr>\n",
              "    <tr>\n",
              "      <th>4</th>\n",
              "      <td>[java] support `time` package like Python</td>\n",
              "      <td>### Description of the feature request:\\n\\n\\nL...</td>\n",
              "      <td>java support time package like python</td>\n",
              "      <td>description of the feature request like go ver...</td>\n",
              "      <td>time 2023-09-11T06:36:15Z author NONE repo baz...</td>\n",
              "      <td>['type: feature request', 'untriaged']</td>\n",
              "      <td>enhancement</td>\n",
              "    </tr>\n",
              "  </tbody>\n",
              "</table>\n",
              "</div>\n",
              "    <div class=\"colab-df-buttons\">\n",
              "\n",
              "  <div class=\"colab-df-container\">\n",
              "    <button class=\"colab-df-convert\" onclick=\"convertToInteractive('df-64d3deda-978a-40d3-8971-462088da9dc1')\"\n",
              "            title=\"Convert this dataframe to an interactive table.\"\n",
              "            style=\"display:none;\">\n",
              "\n",
              "  <svg xmlns=\"http://www.w3.org/2000/svg\" height=\"24px\" viewBox=\"0 -960 960 960\">\n",
              "    <path d=\"M120-120v-720h720v720H120Zm60-500h600v-160H180v160Zm220 220h160v-160H400v160Zm0 220h160v-160H400v160ZM180-400h160v-160H180v160Zm440 0h160v-160H620v160ZM180-180h160v-160H180v160Zm440 0h160v-160H620v160Z\"/>\n",
              "  </svg>\n",
              "    </button>\n",
              "\n",
              "  <style>\n",
              "    .colab-df-container {\n",
              "      display:flex;\n",
              "      gap: 12px;\n",
              "    }\n",
              "\n",
              "    .colab-df-convert {\n",
              "      background-color: #E8F0FE;\n",
              "      border: none;\n",
              "      border-radius: 50%;\n",
              "      cursor: pointer;\n",
              "      display: none;\n",
              "      fill: #1967D2;\n",
              "      height: 32px;\n",
              "      padding: 0 0 0 0;\n",
              "      width: 32px;\n",
              "    }\n",
              "\n",
              "    .colab-df-convert:hover {\n",
              "      background-color: #E2EBFA;\n",
              "      box-shadow: 0px 1px 2px rgba(60, 64, 67, 0.3), 0px 1px 3px 1px rgba(60, 64, 67, 0.15);\n",
              "      fill: #174EA6;\n",
              "    }\n",
              "\n",
              "    .colab-df-buttons div {\n",
              "      margin-bottom: 4px;\n",
              "    }\n",
              "\n",
              "    [theme=dark] .colab-df-convert {\n",
              "      background-color: #3B4455;\n",
              "      fill: #D2E3FC;\n",
              "    }\n",
              "\n",
              "    [theme=dark] .colab-df-convert:hover {\n",
              "      background-color: #434B5C;\n",
              "      box-shadow: 0px 1px 3px 1px rgba(0, 0, 0, 0.15);\n",
              "      filter: drop-shadow(0px 1px 2px rgba(0, 0, 0, 0.3));\n",
              "      fill: #FFFFFF;\n",
              "    }\n",
              "  </style>\n",
              "\n",
              "    <script>\n",
              "      const buttonEl =\n",
              "        document.querySelector('#df-64d3deda-978a-40d3-8971-462088da9dc1 button.colab-df-convert');\n",
              "      buttonEl.style.display =\n",
              "        google.colab.kernel.accessAllowed ? 'block' : 'none';\n",
              "\n",
              "      async function convertToInteractive(key) {\n",
              "        const element = document.querySelector('#df-64d3deda-978a-40d3-8971-462088da9dc1');\n",
              "        const dataTable =\n",
              "          await google.colab.kernel.invokeFunction('convertToInteractive',\n",
              "                                                    [key], {});\n",
              "        if (!dataTable) return;\n",
              "\n",
              "        const docLinkHtml = 'Like what you see? Visit the ' +\n",
              "          '<a target=\"_blank\" href=https://colab.research.google.com/notebooks/data_table.ipynb>data table notebook</a>'\n",
              "          + ' to learn more about interactive tables.';\n",
              "        element.innerHTML = '';\n",
              "        dataTable['output_type'] = 'display_data';\n",
              "        await google.colab.output.renderOutput(dataTable, element);\n",
              "        const docLink = document.createElement('div');\n",
              "        docLink.innerHTML = docLinkHtml;\n",
              "        element.appendChild(docLink);\n",
              "      }\n",
              "    </script>\n",
              "  </div>\n",
              "\n",
              "\n",
              "<div id=\"df-e7113b19-7593-434d-9bf4-fcadcff219f5\">\n",
              "  <button class=\"colab-df-quickchart\" onclick=\"quickchart('df-e7113b19-7593-434d-9bf4-fcadcff219f5')\"\n",
              "            title=\"Suggest charts\"\n",
              "            style=\"display:none;\">\n",
              "\n",
              "<svg xmlns=\"http://www.w3.org/2000/svg\" height=\"24px\"viewBox=\"0 0 24 24\"\n",
              "     width=\"24px\">\n",
              "    <g>\n",
              "        <path d=\"M19 3H5c-1.1 0-2 .9-2 2v14c0 1.1.9 2 2 2h14c1.1 0 2-.9 2-2V5c0-1.1-.9-2-2-2zM9 17H7v-7h2v7zm4 0h-2V7h2v10zm4 0h-2v-4h2v4z\"/>\n",
              "    </g>\n",
              "</svg>\n",
              "  </button>\n",
              "\n",
              "<style>\n",
              "  .colab-df-quickchart {\n",
              "      --bg-color: #E8F0FE;\n",
              "      --fill-color: #1967D2;\n",
              "      --hover-bg-color: #E2EBFA;\n",
              "      --hover-fill-color: #174EA6;\n",
              "      --disabled-fill-color: #AAA;\n",
              "      --disabled-bg-color: #DDD;\n",
              "  }\n",
              "\n",
              "  [theme=dark] .colab-df-quickchart {\n",
              "      --bg-color: #3B4455;\n",
              "      --fill-color: #D2E3FC;\n",
              "      --hover-bg-color: #434B5C;\n",
              "      --hover-fill-color: #FFFFFF;\n",
              "      --disabled-bg-color: #3B4455;\n",
              "      --disabled-fill-color: #666;\n",
              "  }\n",
              "\n",
              "  .colab-df-quickchart {\n",
              "    background-color: var(--bg-color);\n",
              "    border: none;\n",
              "    border-radius: 50%;\n",
              "    cursor: pointer;\n",
              "    display: none;\n",
              "    fill: var(--fill-color);\n",
              "    height: 32px;\n",
              "    padding: 0;\n",
              "    width: 32px;\n",
              "  }\n",
              "\n",
              "  .colab-df-quickchart:hover {\n",
              "    background-color: var(--hover-bg-color);\n",
              "    box-shadow: 0 1px 2px rgba(60, 64, 67, 0.3), 0 1px 3px 1px rgba(60, 64, 67, 0.15);\n",
              "    fill: var(--button-hover-fill-color);\n",
              "  }\n",
              "\n",
              "  .colab-df-quickchart-complete:disabled,\n",
              "  .colab-df-quickchart-complete:disabled:hover {\n",
              "    background-color: var(--disabled-bg-color);\n",
              "    fill: var(--disabled-fill-color);\n",
              "    box-shadow: none;\n",
              "  }\n",
              "\n",
              "  .colab-df-spinner {\n",
              "    border: 2px solid var(--fill-color);\n",
              "    border-color: transparent;\n",
              "    border-bottom-color: var(--fill-color);\n",
              "    animation:\n",
              "      spin 1s steps(1) infinite;\n",
              "  }\n",
              "\n",
              "  @keyframes spin {\n",
              "    0% {\n",
              "      border-color: transparent;\n",
              "      border-bottom-color: var(--fill-color);\n",
              "      border-left-color: var(--fill-color);\n",
              "    }\n",
              "    20% {\n",
              "      border-color: transparent;\n",
              "      border-left-color: var(--fill-color);\n",
              "      border-top-color: var(--fill-color);\n",
              "    }\n",
              "    30% {\n",
              "      border-color: transparent;\n",
              "      border-left-color: var(--fill-color);\n",
              "      border-top-color: var(--fill-color);\n",
              "      border-right-color: var(--fill-color);\n",
              "    }\n",
              "    40% {\n",
              "      border-color: transparent;\n",
              "      border-right-color: var(--fill-color);\n",
              "      border-top-color: var(--fill-color);\n",
              "    }\n",
              "    60% {\n",
              "      border-color: transparent;\n",
              "      border-right-color: var(--fill-color);\n",
              "    }\n",
              "    80% {\n",
              "      border-color: transparent;\n",
              "      border-right-color: var(--fill-color);\n",
              "      border-bottom-color: var(--fill-color);\n",
              "    }\n",
              "    90% {\n",
              "      border-color: transparent;\n",
              "      border-bottom-color: var(--fill-color);\n",
              "    }\n",
              "  }\n",
              "</style>\n",
              "\n",
              "  <script>\n",
              "    async function quickchart(key) {\n",
              "      const quickchartButtonEl =\n",
              "        document.querySelector('#' + key + ' button');\n",
              "      quickchartButtonEl.disabled = true;  // To prevent multiple clicks.\n",
              "      quickchartButtonEl.classList.add('colab-df-spinner');\n",
              "      try {\n",
              "        const charts = await google.colab.kernel.invokeFunction(\n",
              "            'suggestCharts', [key], {});\n",
              "      } catch (error) {\n",
              "        console.error('Error during call to suggestCharts:', error);\n",
              "      }\n",
              "      quickchartButtonEl.classList.remove('colab-df-spinner');\n",
              "      quickchartButtonEl.classList.add('colab-df-quickchart-complete');\n",
              "    }\n",
              "    (() => {\n",
              "      let quickchartButtonEl =\n",
              "        document.querySelector('#df-e7113b19-7593-434d-9bf4-fcadcff219f5 button');\n",
              "      quickchartButtonEl.style.display =\n",
              "        google.colab.kernel.accessAllowed ? 'block' : 'none';\n",
              "    })();\n",
              "  </script>\n",
              "</div>\n",
              "\n",
              "    </div>\n",
              "  </div>\n"
            ],
            "application/vnd.google.colaboratory.intrinsic+json": {
              "type": "dataframe",
              "variable_name": "test",
              "summary": "{\n  \"name\": \"test\",\n  \"rows\": 10537,\n  \"fields\": [\n    {\n      \"column\": \"original_issue_title\",\n      \"properties\": {\n        \"dtype\": \"string\",\n        \"num_unique_values\": 10492,\n        \"samples\": [\n          \"[Documentation] when CGLIB proxies will be used [SPR-1858]\",\n          \"Renamed configuration property to enable CORS filter not recognized\",\n          \"dbeaver does not start, log says Could not resolve module: org.eclipse.equinox.p2.directorywatcher \"\n        ],\n        \"semantic_type\": \"\",\n        \"description\": \"\"\n      }\n    },\n    {\n      \"column\": \"original_issue_body\",\n      \"properties\": {\n        \"dtype\": \"string\",\n        \"num_unique_values\": 10355,\n        \"samples\": [\n          \"Fail build when our version of a transitive dependency differs from the version one of our dependencies depends on. This'll make more sense with an example.\\r\\n\\r\\n```\\r\\nplugin:analysis-icu:6.0.0\\r\\n  +----- lucene-analyzers-icu:6.3.0-snapshot-a66a445\\r\\n                 +----- icu4j:56.1\\r\\n  +----- icu4j:54.1     <----- This should cause a build failure\\r\\n```\\r\\n\\r\\nSometimes we do want to override the version of some dependency so we'd need some way to shut the check off for certain dependencies.\\r\\n\\r\\nRelates to #21352\",\n          \"### What happened?\\n\\nI cannot get past the monitor.StartEventMonitoring() in the below code:\\r\\n\\r\\n======================================\\r\\n\\r\\n`<Some misc Selenium code here>`\\r\\n`IJavaScriptEngine monitor = new JavaScriptEngine(driver);`\\r\\n`List<string> consoleMessages = new List<string>();`\\r\\n`monitor.JavaScriptConsoleApiCalled += (sender, e) =>`\\r\\n`{`\\r\\n`    consoleMessages.Add(e.MessageContent);`\\r\\n`};`\\r\\n`await monitor.StartEventMonitoring();`\\r\\n\\r\\n`<Existing code>`\\r\\n`someButton.Click(); // <== I can never get to this line of code. I'm stuck on the await line.`\\r\\n`int messageCount = consoleMessages.Count; `\\r\\n\\r\\n======================================\\r\\n\\r\\nThe above code came from the following Selenium Docs link:[ Selenium Docs BiDi](https://www.selenium.dev/documentation/webdriver/bidi_apis/#listen-to-consolelog-events)\\r\\n\\r\\nThe problem is that I cannot get past the 'await monitor.StartEventMonitoring()' line of code. I thought I would 'startMonitoring' ... then this monitoring task would run in the background, and the 'someButton.Click()' would then execute. But the code is waiting for 'await monitor.StartEventMonitoring()' line to complete before going onto the next line of code. I thought the monitor would run in the background and I could then check the consoleMessages List every so often to see if any messages had been added to the list. I removed the 'await' which is in front of the monitor.StartEventMonitoring(); but even if I do this the execution of the code will not get past monitor.StartEventMonitoring();\\r\\n\\n\\n### How can we reproduce the issue?\\n\\n```shell\\nTry using the code example from selenium docs (see link in the 'what happened' section).\\n```\\n\\n\\n### Relevant log output\\n\\n```shell\\nnone\\n```\\n\\n\\n### Operating System\\n\\nWindows 10\\n\\n### Selenium version\\n\\nC# Selenium 4.0.0-rc1\\n\\n### What are the browser(s) and version(s) where you see this issue?\\n\\nChrome 95\\n\\n### What are the browser driver(s) and version(s) where you see this issue?\\n\\nChrome 95 driver\\n\\n### Are you using Selenium Grid?\\n\\nno\",\n          \"### Describe the bug\\r\\n\\r\\nIf there are multiple occurrences of a custom annotation, it seems that there's only one initialized.  This is not the case in for instance JBOSS and leads to unexpected behavior.\\r\\n\\r\\nI also tried @Singleton, same result.\\r\\n\\r\\n\\r\\n\\r\\n\\r\\n### Expected behavior\\r\\n\\r\\nThe annotation is initialized with the correct annotation proxy instance before the `isValid` is executed.\\r\\n\\r\\n### Actual behavior\\r\\n\\r\\nIt is not. First come, first serve.\\r\\n\\r\\n### How to Reproduce?\\r\\n\\r\\n\\r\\nhttps://github.com/sjaakd/reproducer_hv\\r\\n\\r\\nSteps to reproduce: \\r\\nhttp://localhost:8080/reproducer/q/swagger-ui/#/default/example\\r\\n\\r\\nNote the validated `Request`:\\r\\n\\r\\n```java\\r\\n    @AlwaysInvalid\\r\\n    private String field1;\\r\\n\\r\\n    @AlwaysInvalid( defaultState = \\\"test \\\")\\r\\n    private String field2;\\r\\n```\\r\\n\\r\\nThe validator implementation is supposed to select the injected dao if  `defaulState` is not set.\\r\\n\\r\\n### Output of `uname -a` or `ver`\\r\\n\\r\\n_No response_\\r\\n\\r\\n### Output of `java -version`\\r\\n\\r\\njava 11\\r\\n\\r\\n### GraalVM version (if different from Java)\\r\\n\\r\\n-\\r\\n\\r\\n### Quarkus version or git rev\\r\\n\\r\\n1.12.1.Final\\r\\n\\r\\n### Build tool (ie. output of `mvnw --version` or `gradlew --version`)\\r\\n\\r\\nmaven, intellij\\r\\n\\r\\n### Additional information\\r\\n\\r\\nnone\"\n        ],\n        \"semantic_type\": \"\",\n        \"description\": \"\"\n      }\n    },\n    {\n      \"column\": \"preprocessed_title\",\n      \"properties\": {\n        \"dtype\": \"string\",\n        \"num_unique_values\": 10462,\n        \"samples\": [\n          \"dubbo thrift use problem\",\n          \"add a reactive scripttemplateview spr 15063\",\n          \"back button doesn't work with channel view\"\n        ],\n        \"semantic_type\": \"\",\n        \"description\": \"\"\n      }\n    },\n    {\n      \"column\": \"preprocessed_body\",\n      \"properties\": {\n        \"dtype\": \"string\",\n        \"num_unique_values\": 10172,\n        \"samples\": [\n          \"oh no a bug it happens. thanks for reporting an issue with newpipe. to make it easier for us to help you please enter detailed information in the template we have provided below. if a section isn't relevant just delete it though it would be helpful to still provide as much detail as possible. if you don't fill in the template properly your issue is liable to be closed. if you feel tired lazy right now open your issue some other time. we'll wait. the comments between these brackets won't show up in the submitted issue as you can see in the preview . checklist this checklist is compulsory. the first box has been checked for you to show you how it is done. x i am using the latest version 0.20.10 check https github.com teamnewpipe newpipe releases x i checked but didn't find any duplicates open or closed of this issue in the repo. seriously check. o_o x i have read the contribution guidelines given at https github.com teamnewpipe\",\n          \"for some reason we must stay windows platform. compiling pulsar cpp always give errors. any plan offering support for windows? thanks\",\n          \"as a elegant manner it's good to ide hints.\"\n        ],\n        \"semantic_type\": \"\",\n        \"description\": \"\"\n      }\n    },\n    {\n      \"column\": \"text\",\n      \"properties\": {\n        \"dtype\": \"string\",\n        \"num_unique_values\": 10537,\n        \"samples\": [\n          \"time 2020-10-21T07:33:48Z author NONE repo dbeaver/dbeaver title error while edit postgresql inet fields body thank you for reporting an issue. important before creating a new issue please look around dbeaver documentation https github.com dbeaver dbeaver wiki and open issues in github tracker https github.com dbeaver dbeaver issues if you cannot find a similar problem then create a new issue. short tips about new issues can be found here https github.com dbeaver dbeaver wiki posting issues please do not create issue duplicates. if you find the same or similar issue just add a comment or vote for this feature. it helps us to track the most popular requests and fix them faster. please fill in as much of the template as possible. system information operating system distribution and version linux ununtu 20.04 and debian sid dbeaver version 7.2.3.202010191702 connection specification database name and version postgresql 9.3 driver name image https user images.githubusercontent.com 13629272 96685892 6ec6cd80 1386 11eb 9227 c0cd2354b6fb.png do you use tunnels or proxies ssh socks etc ? no describe the problem you're observing cant edit add or upgrade any inet fields 21.10.2020 09_35_39.zip\",\n          \"time 2021-04-22T09:16:57Z author MEMBER repo quarkusio/quarkus title resteasy reactive introduce genericresponse type body atm the jax rs type response is used to return more than just the entity like for example setting headers or status code or cookies. but given that it's not generic we can't extract the type of the response entity from its presence leading to issues with both scanning inspection as well as type safety where a user can end up returning a response with an entity of the wrong type. https github.com fromage quarkus commit bc744d9dfbb45a60dba411acbff93fb320e38df7 has a poc of a generic response type we could use to prototype this. two people have come up with the need for this so let's start trying things out?\",\n          \"time 2021-12-27T03:39:27Z author CONTRIBUTOR repo apache/pulsar title provide a lua plugin for pulsar in wireshark body is your feature request related to a problem? please describe. https github.com apache pulsar tree master pulsar client cpp wireshark this is difficult in many different operation systems i can write a lua plugin for pulsar which will be easy to change and run in different systems if it is ok you can assigin to me a clear and concise description of what the problem is. ex. i'm always frustrated when ... describe the solution you'd like a clear and concise description of what you want to happen. describe alternatives you've considered a clear and concise description of any alternative solutions or features you've considered. additional context add any other context or screenshots about the feature request here.\"\n        ],\n        \"semantic_type\": \"\",\n        \"description\": \"\"\n      }\n    },\n    {\n      \"column\": \"labels_name\",\n      \"properties\": {\n        \"dtype\": \"category\",\n        \"num_unique_values\": 3213,\n        \"samples\": [\n          \"['>enhancement', ':Distributed/Engine', 'Team:Distributed']\",\n          \"['General: Question']\",\n          \"['kind/bug', 'triage/invalid', 'area/config']\"\n        ],\n        \"semantic_type\": \"\",\n        \"description\": \"\"\n      }\n    },\n    {\n      \"column\": \"mapLabel\",\n      \"properties\": {\n        \"dtype\": \"category\",\n        \"num_unique_values\": 3,\n        \"samples\": [\n          \"enhancement\",\n          \"bug\",\n          \"question\"\n        ],\n        \"semantic_type\": \"\",\n        \"description\": \"\"\n      }\n    }\n  ]\n}"
            }
          },
          "metadata": {},
          "execution_count": 7
        }
      ]
    },
    {
      "cell_type": "code",
      "source": [
        "s = test.shape[0] // 1000\n",
        "print(s)"
      ],
      "metadata": {
        "colab": {
          "base_uri": "https://localhost:8080/"
        },
        "id": "nLDaAJWQfdN5",
        "outputId": "6479b743-954c-4b56-d70b-7dcd5dd75f60"
      },
      "execution_count": 8,
      "outputs": [
        {
          "output_type": "stream",
          "name": "stdout",
          "text": [
            "10\n"
          ]
        }
      ]
    },
    {
      "cell_type": "code",
      "source": [
        "i = 0\n",
        "x = 1\n",
        "\n",
        "while x < (s+1):\n",
        "    i = (x - 1) * 1000\n",
        "    n = x * 1000\n",
        "    with tqdm(total = (n - i), ncols = 100) as pbar:\n",
        "        while i < n:\n",
        "            try:\n",
        "                test.loc[i,'llama3_prediction'] = llm.invoke(f\"Considering the following issue where the issue title: {test.loc[i,'original_issue_title']} and issue body: {test.loc[i,'original_issue_body']}, please categorize this issue as either bug report, or enhancement request, or something else. Your response should be either bug, or enhancement, or other. Do not provide any explanation and do not write in your answer any word but bug, or enhancement, or other.\")\n",
        "                pbar.update(1)\n",
        "                i = i + 1\n",
        "            except:\n",
        "                print('exception')\n",
        "                continue\n",
        "\n",
        "    test.to_pickle('data/msc_bug_enhancement_question_test_dataset_llama3_8b_prediction.pkl')\n",
        "    print(f'Categorization of {n} issues are completed and saved')\n",
        "    x = x + 1"
      ],
      "metadata": {
        "colab": {
          "base_uri": "https://localhost:8080/"
        },
        "id": "FRUWdjP-fetB",
        "outputId": "780e9124-41fa-4112-9bde-b8e9dbfc1eb5"
      },
      "execution_count": 9,
      "outputs": [
        {
          "output_type": "stream",
          "name": "stderr",
          "text": [
            "100%|███████████████████████████████████████████████████████████| 1000/1000 [04:55<00:00,  3.38it/s]\n"
          ]
        },
        {
          "output_type": "stream",
          "name": "stdout",
          "text": [
            "Categorization of 1000 issues are completed and saved\n"
          ]
        },
        {
          "output_type": "stream",
          "name": "stderr",
          "text": [
            "100%|███████████████████████████████████████████████████████████| 1000/1000 [05:09<00:00,  3.23it/s]\n"
          ]
        },
        {
          "output_type": "stream",
          "name": "stdout",
          "text": [
            "Categorization of 2000 issues are completed and saved\n"
          ]
        },
        {
          "output_type": "stream",
          "name": "stderr",
          "text": [
            "100%|███████████████████████████████████████████████████████████| 1000/1000 [04:57<00:00,  3.36it/s]\n"
          ]
        },
        {
          "output_type": "stream",
          "name": "stdout",
          "text": [
            "Categorization of 3000 issues are completed and saved\n"
          ]
        },
        {
          "output_type": "stream",
          "name": "stderr",
          "text": [
            "100%|███████████████████████████████████████████████████████████| 1000/1000 [04:52<00:00,  3.42it/s]\n"
          ]
        },
        {
          "output_type": "stream",
          "name": "stdout",
          "text": [
            "Categorization of 4000 issues are completed and saved\n"
          ]
        },
        {
          "output_type": "stream",
          "name": "stderr",
          "text": [
            "100%|███████████████████████████████████████████████████████████| 1000/1000 [05:06<00:00,  3.27it/s]\n"
          ]
        },
        {
          "output_type": "stream",
          "name": "stdout",
          "text": [
            "Categorization of 5000 issues are completed and saved\n"
          ]
        },
        {
          "output_type": "stream",
          "name": "stderr",
          "text": [
            "100%|███████████████████████████████████████████████████████████| 1000/1000 [05:05<00:00,  3.27it/s]\n"
          ]
        },
        {
          "output_type": "stream",
          "name": "stdout",
          "text": [
            "Categorization of 6000 issues are completed and saved\n"
          ]
        },
        {
          "output_type": "stream",
          "name": "stderr",
          "text": [
            "100%|███████████████████████████████████████████████████████████| 1000/1000 [04:53<00:00,  3.41it/s]\n"
          ]
        },
        {
          "output_type": "stream",
          "name": "stdout",
          "text": [
            "Categorization of 7000 issues are completed and saved\n"
          ]
        },
        {
          "output_type": "stream",
          "name": "stderr",
          "text": [
            "100%|███████████████████████████████████████████████████████████| 1000/1000 [05:03<00:00,  3.29it/s]\n"
          ]
        },
        {
          "output_type": "stream",
          "name": "stdout",
          "text": [
            "Categorization of 8000 issues are completed and saved\n"
          ]
        },
        {
          "output_type": "stream",
          "name": "stderr",
          "text": [
            "100%|███████████████████████████████████████████████████████████| 1000/1000 [04:41<00:00,  3.55it/s]\n"
          ]
        },
        {
          "output_type": "stream",
          "name": "stdout",
          "text": [
            "Categorization of 9000 issues are completed and saved\n"
          ]
        },
        {
          "output_type": "stream",
          "name": "stderr",
          "text": [
            "100%|███████████████████████████████████████████████████████████| 1000/1000 [04:59<00:00,  3.34it/s]"
          ]
        },
        {
          "output_type": "stream",
          "name": "stdout",
          "text": [
            "Categorization of 10000 issues are completed and saved\n"
          ]
        },
        {
          "output_type": "stream",
          "name": "stderr",
          "text": [
            "\n"
          ]
        }
      ]
    },
    {
      "cell_type": "code",
      "source": [
        "print(x)"
      ],
      "metadata": {
        "colab": {
          "base_uri": "https://localhost:8080/"
        },
        "id": "aRIllx1OfgIf",
        "outputId": "7957239e-9d43-4334-f391-4c9ff0bfe95b"
      },
      "execution_count": 10,
      "outputs": [
        {
          "output_type": "stream",
          "name": "stdout",
          "text": [
            "11\n"
          ]
        }
      ]
    },
    {
      "cell_type": "code",
      "source": [
        "i = (x - 1) * 1000\n",
        "n = test.shape[0]\n",
        "with tqdm(total = (n - i), ncols = 100) as pbar:\n",
        "  while i < n:\n",
        "    try:\n",
        "      test.loc[i,'llama3_prediction'] = llm.invoke(f\"Considering the following issue where the issue title: {test.loc[i,'original_issue_title']} and issue body: {test.loc[i,'original_issue_body']}, please categorize this issue as either bug report, or enhancement request, or something else. Your response should be either bug, or enhancement, or other. Do not provide any explanation and do not write in your answer any word but bug, or enhancement, or other.\")\n",
        "      pbar.update(1)\n",
        "      i = i + 1\n",
        "    except:\n",
        "      print('exception')\n",
        "      continue\n",
        "\n",
        "test.to_pickle('data/msc_bug_enhancement_question_test_dataset_llama3_8b_prediction.pkl')\n",
        "print(f'Categorization of {n} issues are completed and saved')"
      ],
      "metadata": {
        "colab": {
          "base_uri": "https://localhost:8080/"
        },
        "id": "bm4UHvQ1fgRD",
        "outputId": "263adc55-0e28-4f3c-d392-a57f886e40c5"
      },
      "execution_count": 11,
      "outputs": [
        {
          "output_type": "stream",
          "name": "stderr",
          "text": [
            "100%|█████████████████████████████████████████████████████████████| 537/537 [02:38<00:00,  3.39it/s]"
          ]
        },
        {
          "output_type": "stream",
          "name": "stdout",
          "text": [
            "Categorization of 10537 issues are completed and saved\n"
          ]
        },
        {
          "output_type": "stream",
          "name": "stderr",
          "text": [
            "\n"
          ]
        }
      ]
    }
  ]
}